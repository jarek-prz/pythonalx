{
 "cells": [
  {
   "cell_type": "code",
   "execution_count": 3,
   "metadata": {},
   "outputs": [],
   "source": [
    "import numpy as np"
   ]
  },
  {
   "cell_type": "code",
   "execution_count": 4,
   "metadata": {},
   "outputs": [
    {
     "data": {
      "text/plain": [
       "'1.18.1'"
      ]
     },
     "execution_count": 4,
     "metadata": {},
     "output_type": "execute_result"
    }
   ],
   "source": [
    "np.__version__"
   ]
  },
  {
   "cell_type": "code",
   "execution_count": 7,
   "metadata": {},
   "outputs": [
    {
     "data": {
      "text/plain": [
       "array([[0, 1, 2],\n",
       "       [3, 4, 5],\n",
       "       [6, 7, 8]])"
      ]
     },
     "execution_count": 7,
     "metadata": {},
     "output_type": "execute_result"
    }
   ],
   "source": [
    "arr1=np.arange(9).reshape(3,3)\n",
    "arr1"
   ]
  },
  {
   "cell_type": "code",
   "execution_count": 12,
   "metadata": {},
   "outputs": [
    {
     "data": {
      "text/plain": [
       "array([[0],\n",
       "       [1],\n",
       "       [2]])"
      ]
     },
     "execution_count": 12,
     "metadata": {},
     "output_type": "execute_result"
    }
   ],
   "source": [
    "arr2 = np.arange(3).reshape(3,1)\n",
    "arr2"
   ]
  },
  {
   "cell_type": "code",
   "execution_count": 13,
   "metadata": {},
   "outputs": [
    {
     "data": {
      "text/plain": [
       "array([[ 0,  1,  2],\n",
       "       [ 4,  5,  6],\n",
       "       [ 8,  9, 10]])"
      ]
     },
     "execution_count": 13,
     "metadata": {},
     "output_type": "execute_result"
    }
   ],
   "source": [
    "arr1+arr2\n",
    "#drtugi array ma tylko 1 kolumne, ale np go zduplikowal jako 3 takie same kolumny i kazda z nich dodal - BROADCASTING"
   ]
  },
  {
   "cell_type": "code",
   "execution_count": 14,
   "metadata": {},
   "outputs": [
    {
     "data": {
      "text/plain": [
       "array([0, 1, 2])"
      ]
     },
     "execution_count": 14,
     "metadata": {},
     "output_type": "execute_result"
    }
   ],
   "source": [
    "arr2 = arr2.flatten()\n",
    "arr2"
   ]
  },
  {
   "cell_type": "code",
   "execution_count": 15,
   "metadata": {},
   "outputs": [
    {
     "data": {
      "text/plain": [
       "array([0, 1, 2, 3, 4, 5, 6, 7, 8])"
      ]
     },
     "execution_count": 15,
     "metadata": {},
     "output_type": "execute_result"
    }
   ],
   "source": [
    "arr1.flatten() # spłaszczanie tablicy"
   ]
  },
  {
   "cell_type": "code",
   "execution_count": 16,
   "metadata": {},
   "outputs": [
    {
     "data": {
      "text/plain": [
       "array([0, 1, 2, 3, 4, 5, 6, 7, 8])"
      ]
     },
     "execution_count": 16,
     "metadata": {},
     "output_type": "execute_result"
    }
   ],
   "source": [
    "arr1.ravel()"
   ]
  },
  {
   "cell_type": "code",
   "execution_count": 21,
   "metadata": {},
   "outputs": [
    {
     "data": {
      "text/plain": [
       "array([[0, 1, 2],\n",
       "       [3, 4, 5],\n",
       "       [6, 7, 8]])"
      ]
     },
     "execution_count": 21,
     "metadata": {},
     "output_type": "execute_result"
    }
   ],
   "source": [
    "arr1"
   ]
  },
  {
   "cell_type": "code",
   "execution_count": 22,
   "metadata": {},
   "outputs": [
    {
     "data": {
      "text/plain": [
       "array([0, 1, 2])"
      ]
     },
     "execution_count": 22,
     "metadata": {},
     "output_type": "execute_result"
    }
   ],
   "source": [
    "arr2"
   ]
  },
  {
   "cell_type": "code",
   "execution_count": 23,
   "metadata": {
    "scrolled": true
   },
   "outputs": [
    {
     "data": {
      "text/plain": [
       "array([[ 0,  2,  4],\n",
       "       [ 3,  5,  7],\n",
       "       [ 6,  8, 10]])"
      ]
     },
     "execution_count": 23,
     "metadata": {},
     "output_type": "execute_result"
    }
   ],
   "source": [
    "arr1+arr2"
   ]
  },
  {
   "cell_type": "markdown",
   "metadata": {},
   "source": [
    "### Tablica wygenerowana w sposób losowy + slicing"
   ]
  },
  {
   "cell_type": "code",
   "execution_count": 25,
   "metadata": {},
   "outputs": [
    {
     "data": {
      "text/plain": [
       "array([[  2,   5, -10,  -7,  -7,  -3,  -1,   9,   8,  -6],\n",
       "       [ -4,   2,  -9,  -4,  -3,   4,   7,  -5,   3,  -2],\n",
       "       [ -1,  10,   9,   6,   9,  -5,   5,   5, -10,   8],\n",
       "       [ -7,   7,   9,   9,   9,   4,  -3, -10,  -9,  -1],\n",
       "       [-10,   0,  10,  -7,   1,   8,  -8, -10, -10,  -6],\n",
       "       [ -5,  -4,  -2,  10,   7,   5,  -6,  -1,   0,  -9],\n",
       "       [ -9,  -3,  -1,  -7,  -4,   1,   4,   8, -10,   4],\n",
       "       [ -7,   2,   0,  10,   1,  -6,  -4,  -6,   5,  10],\n",
       "       [ -7,   2,  -6,  10,  -2,   4,   5,  10,  -7,   5],\n",
       "       [  3,   6,   7,  -5,  -1,  -7, -10,  -5, -10,   7]])"
      ]
     },
     "execution_count": 25,
     "metadata": {},
     "output_type": "execute_result"
    }
   ],
   "source": [
    "np.random.seed(0)\n",
    "arr3 = np.random.randint(-10, 11, size=(10,10))\n",
    "arr3"
   ]
  },
  {
   "cell_type": "code",
   "execution_count": 28,
   "metadata": {},
   "outputs": [
    {
     "data": {
      "text/plain": [
       "array([  2,   5, -10,  -7,  -7,  -3,  -1,   9,   8,  -6])"
      ]
     },
     "execution_count": 28,
     "metadata": {},
     "output_type": "execute_result"
    }
   ],
   "source": [
    "arr3[0] # pierwszy wiersz"
   ]
  },
  {
   "cell_type": "code",
   "execution_count": 29,
   "metadata": {},
   "outputs": [
    {
     "data": {
      "text/plain": [
       "array([-10,  -7])"
      ]
     },
     "execution_count": 29,
     "metadata": {},
     "output_type": "execute_result"
    }
   ],
   "source": [
    "arr3[0,2:4] # liczby od 3 do 4 z kolumny 1"
   ]
  },
  {
   "cell_type": "code",
   "execution_count": 30,
   "metadata": {},
   "outputs": [
    {
     "data": {
      "text/plain": [
       "array([[ -6,   8,   9,  -1,  -3,  -7,  -7, -10,   5,   2],\n",
       "       [ -2,   3,  -5,   7,   4,  -3,  -4,  -9,   2,  -4],\n",
       "       [  8, -10,   5,   5,  -5,   9,   6,   9,  10,  -1],\n",
       "       [ -1,  -9, -10,  -3,   4,   9,   9,   9,   7,  -7],\n",
       "       [ -6, -10, -10,  -8,   8,   1,  -7,  10,   0, -10],\n",
       "       [ -9,   0,  -1,  -6,   5,   7,  10,  -2,  -4,  -5],\n",
       "       [  4, -10,   8,   4,   1,  -4,  -7,  -1,  -3,  -9],\n",
       "       [ 10,   5,  -6,  -4,  -6,   1,  10,   0,   2,  -7],\n",
       "       [  5,  -7,  10,   5,   4,  -2,  10,  -6,   2,  -7],\n",
       "       [  7, -10,  -5, -10,  -7,  -1,  -5,   7,   6,   3]])"
      ]
     },
     "execution_count": 30,
     "metadata": {},
     "output_type": "execute_result"
    }
   ],
   "source": [
    "arr3[:,::-1] # odwracanie kolumn"
   ]
  },
  {
   "cell_type": "code",
   "execution_count": 31,
   "metadata": {},
   "outputs": [
    {
     "data": {
      "text/plain": [
       "array([[  8,  -6],\n",
       "       [  3,  -2],\n",
       "       [-10,   8],\n",
       "       [ -9,  -1],\n",
       "       [-10,  -6],\n",
       "       [  0,  -9],\n",
       "       [-10,   4],\n",
       "       [  5,  10],\n",
       "       [ -7,   5],\n",
       "       [-10,   7]])"
      ]
     },
     "execution_count": 31,
     "metadata": {},
     "output_type": "execute_result"
    }
   ],
   "source": [
    "arr3[:,-2:] # 2 ostatnie kolumny"
   ]
  },
  {
   "cell_type": "code",
   "execution_count": 32,
   "metadata": {},
   "outputs": [
    {
     "data": {
      "text/plain": [
       "array([[  5,   8],\n",
       "       [  2,   3],\n",
       "       [ 10, -10],\n",
       "       [  7,  -9],\n",
       "       [  0, -10]])"
      ]
     },
     "execution_count": 32,
     "metadata": {},
     "output_type": "execute_result"
    }
   ],
   "source": [
    "arr3[:5, [1,-2]] # 5 pierwszych wierszy, kolumny 2 i 2 od konca (czyli o indeksach 1 oraz -2)"
   ]
  },
  {
   "cell_type": "code",
   "execution_count": 33,
   "metadata": {},
   "outputs": [
    {
     "data": {
      "text/plain": [
       "(10, 10)"
      ]
     },
     "execution_count": 33,
     "metadata": {},
     "output_type": "execute_result"
    }
   ],
   "source": [
    "arr3.shape # podaje ile jest wierszy i kolumn w array"
   ]
  },
  {
   "cell_type": "code",
   "execution_count": 40,
   "metadata": {},
   "outputs": [
    {
     "name": "stdout",
     "output_type": "stream",
     "text": [
      "==================================================\n",
      "[  2   5 -10  -7  -7  -3  -1   9   8  -6]\n",
      "==================================================\n",
      "[-4  2 -9 -4 -3  4  7 -5  3 -2]\n",
      "==================================================\n",
      "[ -1  10   9   6   9  -5   5   5 -10   8]\n",
      "==================================================\n",
      "[ -7   7   9   9   9   4  -3 -10  -9  -1]\n",
      "==================================================\n",
      "[-10   0  10  -7   1   8  -8 -10 -10  -6]\n",
      "==================================================\n",
      "[-5 -4 -2 10  7  5 -6 -1  0 -9]\n",
      "==================================================\n",
      "[ -9  -3  -1  -7  -4   1   4   8 -10   4]\n",
      "==================================================\n",
      "[-7  2  0 10  1 -6 -4 -6  5 10]\n",
      "==================================================\n",
      "[-7  2 -6 10 -2  4  5 10 -7  5]\n",
      "==================================================\n",
      "[  3   6   7  -5  -1  -7 -10  -5 -10   7]\n"
     ]
    }
   ],
   "source": [
    "for i in range(arr3.shape[0]): # iteracja po wierszach\n",
    "    print(\"=\"*50)\n",
    "    print(arr3[i])"
   ]
  },
  {
   "cell_type": "code",
   "execution_count": 41,
   "metadata": {},
   "outputs": [
    {
     "name": "stdout",
     "output_type": "stream",
     "text": [
      "==================================================\n",
      "[  2   5 -10  -7  -7  -3  -1   9   8  -6]\n",
      "==================================================\n",
      "[-4  2 -9 -4 -3  4  7 -5  3 -2]\n",
      "==================================================\n",
      "[ -1  10   9   6   9  -5   5   5 -10   8]\n",
      "==================================================\n",
      "[ -7   7   9   9   9   4  -3 -10  -9  -1]\n",
      "==================================================\n",
      "[-10   0  10  -7   1   8  -8 -10 -10  -6]\n",
      "==================================================\n",
      "[-5 -4 -2 10  7  5 -6 -1  0 -9]\n",
      "==================================================\n",
      "[ -9  -3  -1  -7  -4   1   4   8 -10   4]\n",
      "==================================================\n",
      "[-7  2  0 10  1 -6 -4 -6  5 10]\n",
      "==================================================\n",
      "[-7  2 -6 10 -2  4  5 10 -7  5]\n",
      "==================================================\n",
      "[  3   6   7  -5  -1  -7 -10  -5 -10   7]\n"
     ]
    }
   ],
   "source": [
    "for row in arr3:\n",
    "    print(\"=\"*50)\n",
    "    print(row)"
   ]
  },
  {
   "cell_type": "code",
   "execution_count": 44,
   "metadata": {},
   "outputs": [
    {
     "data": {
      "text/plain": [
       "range(0, 1000)"
      ]
     },
     "execution_count": 44,
     "metadata": {},
     "output_type": "execute_result"
    }
   ],
   "source": [
    "lista = range(1000)\n",
    "lista"
   ]
  },
  {
   "cell_type": "code",
   "execution_count": 47,
   "metadata": {},
   "outputs": [
    {
     "name": "stdout",
     "output_type": "stream",
     "text": [
      "500 µs ± 10.6 µs per loop (mean ± std. dev. of 5 runs, 1000 loops each)\n"
     ]
    }
   ],
   "source": [
    "%timeit -r 5 -n 1000 [i**2 for i in lista]"
   ]
  },
  {
   "cell_type": "code",
   "execution_count": 51,
   "metadata": {},
   "outputs": [
    {
     "name": "stdout",
     "output_type": "stream",
     "text": [
      "2.76 µs ± 1.28 µs per loop (mean ± std. dev. of 5 runs, 1000 loops each)\n"
     ]
    }
   ],
   "source": [
    "arr4 = np.arange(1000)\n",
    "%timeit -r 5 -n 1000 arr4**2"
   ]
  },
  {
   "cell_type": "code",
   "execution_count": null,
   "metadata": {},
   "outputs": [],
   "source": []
  }
 ],
 "metadata": {
  "kernelspec": {
   "display_name": "Python 3",
   "language": "python",
   "name": "python3"
  },
  "language_info": {
   "codemirror_mode": {
    "name": "ipython",
    "version": 3
   },
   "file_extension": ".py",
   "mimetype": "text/x-python",
   "name": "python",
   "nbconvert_exporter": "python",
   "pygments_lexer": "ipython3",
   "version": "3.7.4"
  }
 },
 "nbformat": 4,
 "nbformat_minor": 4
}
